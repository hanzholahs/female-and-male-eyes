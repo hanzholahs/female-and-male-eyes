{
  "cells": [
    {
      "attachments": {},
      "cell_type": "markdown",
      "metadata": {},
      "source": [
        "# Deep Learning Classifier: Case Study on Images of Female and Male Eyes\n",
        "\n",
        "By **Hanzholah Shobri**, 20 March 2023\n",
        "\n",
        "Github Repository: [https://www.github.com/hanzholahs/female-and-male-eyes](https://www.github.com/hanzholahs/female-and-male-eyes)\n",
        "\n",
        "Open this analysis on [Google Colab](https://colab.research.google.com/github/hanzholahs/female-and-male-eyes/blob/main/female_and_male_eyes.ipynb)"
      ]
    },
    {
      "attachments": {},
      "cell_type": "markdown",
      "metadata": {
        "id": "MA_Q0Yzn_EmQ"
      },
      "source": [
        "## 1. Background\n",
        "\n",
        "Deep learning, a subfield of artificial intelligence, has rapidly transformed the world we live in and the way we approach life. With its capability to learn from vast amounts of data, identify patterns, and make predictions, deep learning is now being applied in a wide range of domains, from natural language processing and speech recognition to image and video recognition, recommendation systems, and even autonomous driving. As deep learning algorithms continue to improve and become more sophisticated, they are driving advancements in various fields, including healthcare, finance, transportation, and many others, revolutionizing the way we live, work, and interact with technology.\n",
        "\n",
        "`TensorFlow` is an open-source machine learning framework developed by Google. It has become one of the most popular tools for deep learning development due to its powerful capabilities and ease of use. TensorFlow allows developers perform mathematical expressions over numerical tensor written in Python, expanding the `NumPy` capability through the ability to compute gradient automatically, run on GPUs and TPUs, distribute across machines, and be deployed to different runtimes (Chollet, 2021). This also makes it easier for companies to create and train complex neural networks and other machine learning models efficiently for the basis of their services. \n",
        "\n",
        "This is a report of the process of building a neural network model that could differentiate between images of male and female eyes. The dataset for the problem can be accessed via [Kaggle](https://www.kaggle.com/datasets/pavelbiz/eyes-rtte). This analysis loosely followed the universal workflow of machine learning as demonstrated by Chollet (2018).\n",
        "\n",
        "\n",
        "## 2. Problem Statement\n",
        "\n",
        "### Data Description\n",
        "\n",
        "The dataset contains a total of 11,525 coloured images (which can be represented with the colours red, green and blue) of female and male eyes collected by Pavelbiz (2021). The images have varying resolutions (different pixel numbers for its height and weight dimensions). There are two classes or labels for the dataset: male and female. This makes it a binary classification problem as each image can only be labeled as either male or female, depending on the gender. For this analysis, the images were assumed to be representative of the population of eyes\n",
        "\n",
        "\n",
        "### Hypotheses\n",
        "\n",
        "The main hypotheses for the analysis were that genders can be predicted by using pictures of human eyes and that the available data was sufficient to provide information on the relationship between the two. These hypotheses suggest that machine learning algorithms, in this case a specific deep learning algorithm, can be used to classify male and female genders based on images of eyes. \n",
        "\n",
        "Furthermore, the data augmentation technique being used in the analysis was hypothesised to be able to improve the model's accuracy and generalizability. Data augmentation involves applying transformations to existing data (e.g., rotation, scaling, flipping, shifting, and adjusting brightness) to generate new data. The technique could generally prevent overfitting because the model becomes too specialised to the training data but performs poorly on unseen data. \n",
        "\n",
        "This analysis provided in this document aims to develop an accurate and reliable neural network model for gender classification based on images of the eyes by testing these hypotheses.\n",
        "\n",
        "\n",
        "### Methods\n",
        "\n",
        "To build the model, the analysis leveraged a set of development tools in `TensorFlow` library. The model used different types of layers, mainly the fully connected and convolutional layers, which are provided by the `tf.keras.layers.Dense` and `tf.keras.layers.Conv2D`. The performance of the model was evaluated from its accuracy in predicting the label of a given picture, and the validity of the hypotheses were evaluated based on this metric. Evaluation protocol being employed for the optimal model selection in this analysis was the hold-out validation set, which separate training data into two distinct datasets for fitting the model and evaluating the results. The optimal, final model was fitted on the complete set of the training data and assessed using the test data. The same model with identical architecture and configurations was also trained using augmented data (with randomly transformed images of the training data) and evaluated using the same testing data. The performances of both trained models was then compared."
      ]
    },
    {
      "attachments": {},
      "cell_type": "markdown",
      "metadata": {
        "id": "Og58f2xpj5c7"
      },
      "source": [
        "## 3. Environment Setup\n",
        "\n",
        "The preparation of the environment includes downloading the data using [Kaggle API](https://github.com/Kaggle/kaggle-api), importing relevant libraries, defining relevant functions to help the analysis, and setting random seed generator for better reproducibility. "
      ]
    },
    {
      "attachments": {},
      "cell_type": "markdown",
      "metadata": {
        "id": "mpaeNF7hH2EW"
      },
      "source": [
        "### Download data\n",
        "\n",
        "Kaggle provides an API to access its functionalities such as competitions, datasets, and kernels. After setting up the API credential, the dataset was downloaded from the Kaggle server and stored locally. The downloaded data was in `.zip` format and extracted using `shutil.unpack_archive` function. "
      ]
    },
    {
      "cell_type": "code",
      "execution_count": 1,
      "metadata": {
        "id": "wNywHSC6_OGm"
      },
      "outputs": [],
      "source": [
        "# setup kaggle API credential\n",
        "!mkdir ~/.kaggle\n",
        "!cp /content/kaggle.json ~/.kaggle\n",
        "!chmod 600 ~/.kaggle/kaggle.json"
      ]
    },
    {
      "cell_type": "code",
      "execution_count": null,
      "metadata": {
        "colab": {
          "base_uri": "https://localhost:8080/"
        },
        "id": "2Q6yUhYVKQSl",
        "outputId": "d8a9ee76-7225-4320-d23f-0c059f3baf82"
      },
      "outputs": [],
      "source": [
        "# # download data\n",
        "!kaggle datasets download pavelbiz/eyes-rtte"
      ]
    },
    {
      "cell_type": "code",
      "execution_count": 3,
      "metadata": {
        "id": "Ezk36pSFH2EX"
      },
      "outputs": [],
      "source": [
        "# # unzip data\n",
        "from shutil import unpack_archive\n",
        "unpack_archive(\"eyes-rtte.zip\", \"./data\")"
      ]
    },
    {
      "attachments": {},
      "cell_type": "markdown",
      "metadata": {
        "id": "sA1cyhruH2EX"
      },
      "source": [
        "### Import libraries\n",
        "\n",
        "Several mainstream libraries for data analysis are used in the analysis. These libraries include `cv2` for image data manipulation, `os` for working with directories and files, `tensorflow` for building the model, `numpy` for manipulation of arrays, `pandas` for working with tabular data, and `matplotlib` for data visualisation."
      ]
    },
    {
      "cell_type": "code",
      "execution_count": 4,
      "metadata": {
        "id": "-KZVvkCCMIZ7"
      },
      "outputs": [],
      "source": [
        "# import relevant libraries\n",
        "import cv2\n",
        "import os\n",
        "import tensorflow as tf\n",
        "import pandas as pd\n",
        "import numpy as np\n",
        "import matplotlib.pyplot as plt"
      ]
    },
    {
      "attachments": {},
      "cell_type": "markdown",
      "metadata": {
        "id": "MK08oeJNH2EY"
      },
      "source": [
        "### Define custom functions\n",
        "\n",
        "In addition to downloading data and importing libraries, specific functions to help visualising the training of Deep Learning model and data augmentation were also defined here. The `plot_history` function accepts the history from the training of a model and generates line chart representing the progression of a specified metric throughout the training. The `generate_new_data` function applies several transformations randomly on an image input to generate new data."
      ]
    },
    {
      "cell_type": "code",
      "execution_count": 5,
      "metadata": {
        "id": "LzkTvrMLlXAr"
      },
      "outputs": [],
      "source": [
        "def plot_history(history:tf.keras.callbacks.History, metric:str):\n",
        "    \"\"\"\n",
        "        Plot the values of a metric during a training process\n",
        "    \"\"\"\n",
        "\n",
        "    # making sure to receive the right inputs\n",
        "    assert type(history) == tf.keras.callbacks.History, \"`history` must be a `History` object\"\n",
        "    assert type(metric) == str, \"`metric` must be a string\"\n",
        "    assert metric in history.history.keys(), f\"`history` does not contain `{metric}`\"\n",
        "    \n",
        "    # prepare data before plotting\n",
        "    train_metric = history.history[metric]\n",
        "    test_metric = history.history['val_' + metric]\n",
        "    epochs = np.arange(len(train_metric)) + 1\n",
        "\n",
        "    # plot data\n",
        "    plt.plot(epochs, train_metric, \"b\", label = 'Training ' + metric)\n",
        "    plt.plot(epochs, test_metric, \"r\", label = 'Validation/Testing ' + metric)\n",
        "    plt.title('History of ' + metric)\n",
        "    plt.xlabel('Epochs')\n",
        "    plt.legend()\n",
        "    plt.show()"
      ]
    },
    {
      "cell_type": "code",
      "execution_count": 6,
      "metadata": {
        "id": "8DyEEyf9H2EY"
      },
      "outputs": [],
      "source": [
        "def generate_new_data(img:np.ndarray, \n",
        "                      probability:float = 0.5,\n",
        "                      zoom_rate:float = 0.2,\n",
        "                      brightness_rate:float = 0.2,\n",
        "                      shift_rate:float = 0.2):\n",
        "    \"\"\"\n",
        "      Perform data augmentation for an input image through randomised transformations\n",
        "    \"\"\"\n",
        "    new_img = np.copy(img)\n",
        "    h, w = new_img.shape[:2]\n",
        "\n",
        "    # flip image horizontally\n",
        "    if np.random.rand() > probability:\n",
        "        new_img = cv2.flip(new_img, 0)\n",
        "\n",
        "    # rotate image\n",
        "    if np.random.rand() > probability:\n",
        "        # define the degree of rotation\n",
        "        deg = (np.random.rand() * 90) - 45\n",
        "\n",
        "        # define rotation matrix\n",
        "        M = cv2.getRotationMatrix2D((w//2, h//2), deg, scale = 1)\n",
        "\n",
        "        # apply rotation\n",
        "        new_img = cv2.warpAffine(new_img, M, (w, h), borderMode = cv2.BORDER_REPLICATE)\n",
        "\n",
        "    # shift image\n",
        "    if np.random.rand() > probability:\n",
        "        shift_h = int(np.random.rand() * shift_rate * h - shift_rate * h / 2)\n",
        "        shift_w = int(np.random.rand() * shift_rate * w - shift_rate * w / 2)\n",
        "\n",
        "        M = np.float32([[1, 0, shift_h], \n",
        "                        [0, 1, shift_w]])\n",
        "        new_img = cv2.warpAffine(new_img, M, (w, h), borderMode = cv2.BORDER_REPLICATE)\n",
        "\n",
        "    # zoom image\n",
        "    if np.random.rand() > probability:\n",
        "        # define new border after zooming\n",
        "        border = np.array([\n",
        "            0 + np.random.rand() * zoom_rate / 2 * h,\n",
        "            h - np.random.rand() * zoom_rate / 2 * h - 1,\n",
        "            0 + np.random.rand() * zoom_rate / 2 * w,\n",
        "            w - np.random.rand() * zoom_rate / 2 * w - 1\n",
        "        ]).astype(int)\n",
        "        \n",
        "        # crop image based on the border\n",
        "        new_img = new_img[border[0]:border[1], border[2]:border[3]]\n",
        "        \n",
        "        # resizing to ensure identical size with the rest of the images\n",
        "        new_img = cv2.resize(new_img, (h, w), interpolation = cv2.INTER_AREA)\n",
        "\n",
        "    # adjust brightness\n",
        "    if np.random.rand() > probability:\n",
        "        # define random brightness change (either positive or negative)\n",
        "        noise = (np.random.rand() * brightness_rate) - (brightness_rate / 2)\n",
        "\n",
        "        # adding noise while ensuring values are between 0 and 1\n",
        "        new_img = np.maximum(0, np.minimum(1, new_img + noise))\n",
        "    \n",
        "    return new_img"
      ]
    },
    {
      "attachments": {},
      "cell_type": "markdown",
      "metadata": {
        "id": "2YSJlmIfH2EZ"
      },
      "source": [
        "### Setup TensorFlow\n",
        "\n",
        "The `TensorFlow` library could perform calculation using either CPU or GPU. The availability of a GPU in the system can be checked using the `tf.config.list_physical_devices` function. In addition, to increase reproducibility, the seeds for random generators are set."
      ]
    },
    {
      "cell_type": "code",
      "execution_count": 7,
      "metadata": {
        "colab": {
          "base_uri": "https://localhost:8080/"
        },
        "id": "l-LrTT9MH2EZ",
        "outputId": "e89d009a-3ecc-48a7-960b-21257868522f"
      },
      "outputs": [
        {
          "name": "stdout",
          "output_type": "stream",
          "text": [
            "2.11.0\n"
          ]
        }
      ],
      "source": [
        "# check tensorflow version\n",
        "print(tf.__version__)"
      ]
    },
    {
      "cell_type": "code",
      "execution_count": 8,
      "metadata": {
        "colab": {
          "base_uri": "https://localhost:8080/"
        },
        "id": "ZYGpHREKH2Ea",
        "outputId": "094ba8e7-d17c-4662-c62b-a2d3994791c9"
      },
      "outputs": [
        {
          "data": {
            "text/plain": [
              "[PhysicalDevice(name='/physical_device:GPU:0', device_type='GPU')]"
            ]
          },
          "execution_count": 8,
          "metadata": {},
          "output_type": "execute_result"
        }
      ],
      "source": [
        "# check gpu presence\n",
        "tf.config.list_physical_devices('GPU')"
      ]
    },
    {
      "cell_type": "code",
      "execution_count": 9,
      "metadata": {
        "id": "-ubFpcO0kQLD"
      },
      "outputs": [],
      "source": [
        "# set seeds for random data generation\n",
        "tf.keras.utils.set_random_seed(123)"
      ]
    },
    {
      "attachments": {},
      "cell_type": "markdown",
      "metadata": {
        "id": "ddagx82HkBE2"
      },
      "source": [
        "## 4. Data Preparation\n",
        "\n",
        "Image file cannot be processed directly by the `TensorFlow` model, and it needs to be converted into tensors (or multidimensional arrays). Images can be represented in many ways. In this analysis, all images are converted into an array with the shape of (height, weight, )"
      ]
    },
    {
      "attachments": {},
      "cell_type": "markdown",
      "metadata": {
        "id": "3wexFzd7jyf3"
      },
      "source": [
        "### Import data\n",
        "\n",
        "The downloaded data was extracted to the `data/femaleeyes` and `data/maleeyes` folders. "
      ]
    },
    {
      "attachments": {},
      "cell_type": "markdown",
      "metadata": {},
      "source": [
        "## 4. Data Preparation"
      ]
    },
    {
      "attachments": {},
      "cell_type": "markdown",
      "metadata": {
        "id": "PFpmj5UPQONs"
      },
      "source": [
        "### Import Data\n",
        "\n",
        "After downloading, images were extracted to folders `data/femaleeyes` and `data/maleeyes`. These images need to be imported to `Python`. One way to this is using `cv2.imread` function that returns a `NumPy` array representing three channels of colour (red, green, and blue) using integers between 0 and 255. The images were preprocessed by converting it into greyscale, resizing it into 50x50 pixels, and scaling the numbers into floating numbers between 0 and 1. All imported and transformed images were stored in the `images` variabel. \n",
        "\n",
        "In addition, a new variable named `labels` was defined to store the gender class of each image based on the respective source folder. "
      ]
    },
    {
      "cell_type": "code",
      "execution_count": 10,
      "metadata": {
        "colab": {
          "base_uri": "https://localhost:8080/"
        },
        "id": "oSyT7J_RO_aJ",
        "outputId": "34e088cb-310c-491b-8fad-a3aa61c0491a"
      },
      "outputs": [
        {
          "name": "stdout",
          "output_type": "stream",
          "text": [
            "There are 5202 images of female eyes.\n",
            "There are 6323 images of male eyes.\n"
          ]
        }
      ],
      "source": [
        "# set image resolution (35 x 35 pixels) for input data\n",
        "img_size = 50\n",
        "\n",
        "# set directories of female and male eye images\n",
        "dir_f = \"./data/femaleeyes/\"\n",
        "dir_m = \"./data/maleeyes/\"\n",
        "\n",
        "# count the number of images\n",
        "len_f = len(os.listdir(dir_f))\n",
        "len_m = len(os.listdir(dir_m))\n",
        "\n",
        "print(f\"There are {len_f} images of female eyes.\")\n",
        "print(f\"There are {len_m} images of male eyes.\")"
      ]
    },
    {
      "cell_type": "code",
      "execution_count": 11,
      "metadata": {
        "colab": {
          "base_uri": "https://localhost:8080/"
        },
        "id": "2f_Lv3viOWTk",
        "outputId": "208768ea-6d1f-41f0-d035-fa604f24711a"
      },
      "outputs": [
        {
          "data": {
            "text/plain": [
              "(5202, 50, 50)"
            ]
          },
          "execution_count": 11,
          "metadata": {},
          "output_type": "execute_result"
        }
      ],
      "source": [
        "# import female eye images\n",
        "img_f = np.zeros((len_f, img_size, img_size), dtype = float)\n",
        "for i, img_file in enumerate(os.listdir(dir_f)):\n",
        "    img = cv2.imread(os.path.join(dir_f, img_file))\n",
        "    img = cv2.cvtColor(img, cv2.COLOR_BGR2GRAY)\n",
        "    img = cv2.resize(img, (img_size, img_size), interpolation = cv2.INTER_AREA)\n",
        "    img = img / 255\n",
        "    img_f[i] = img\n",
        "\n",
        "img_f.shape"
      ]
    },
    {
      "cell_type": "code",
      "execution_count": 12,
      "metadata": {
        "colab": {
          "base_uri": "https://localhost:8080/"
        },
        "id": "CpXaUEfQQnNi",
        "outputId": "7f87ac13-eee9-4334-96d4-08fd0afde1e0"
      },
      "outputs": [
        {
          "data": {
            "text/plain": [
              "(6323, 50, 50)"
            ]
          },
          "execution_count": 12,
          "metadata": {},
          "output_type": "execute_result"
        }
      ],
      "source": [
        "# import male eye images\n",
        "img_m = np.zeros((len_m, img_size, img_size), dtype = float)\n",
        "for i, img_file in enumerate(os.listdir(dir_m)):\n",
        "    img = cv2.imread(os.path.join(dir_m, img_file))\n",
        "    img = cv2.cvtColor(img, cv2.COLOR_BGR2GRAY)\n",
        "    img = cv2.resize(img, (img_size, img_size), interpolation = cv2.INTER_AREA)\n",
        "    img = img / 255\n",
        "    img_m[i] = img\n",
        "\n",
        "img_m.shape"
      ]
    },
    {
      "cell_type": "code",
      "execution_count": 13,
      "metadata": {
        "colab": {
          "base_uri": "https://localhost:8080/"
        },
        "id": "05VTb-D4Q-iX",
        "outputId": "1d85638c-b309-4d9d-8a7e-130a6d643312"
      },
      "outputs": [
        {
          "data": {
            "text/plain": [
              "((11525, 50, 50, 1), (11525,))"
            ]
          },
          "execution_count": 13,
          "metadata": {},
          "output_type": "execute_result"
        }
      ],
      "source": [
        "# combine all images and define binary labels\n",
        "images = np.concatenate([img_f, img_m]).reshape(-1, img_size, img_size, 1)\n",
        "labels = np.concatenate([np.zeros(len(img_f), dtype = int),\n",
        "                         np.ones(len(img_m), dtype = int)])\n",
        "\n",
        "images.shape, labels.shape"
      ]
    },
    {
      "attachments": {},
      "cell_type": "markdown",
      "metadata": {
        "id": "C_vNCtK0jvMc"
      },
      "source": [
        "### Train-Test Data Splitting\n",
        "\n",
        "The objective of Machine Learning algorithm is to buld a model that is able to generalise. That is to say that the final model needs to bo able to find patterns not only on the data on which it was trained but also unseen data. In this analysis, it was represented by the capability of a model, fitted on the train data, predicting a set of test dataset with decent performance based on a metric. \n",
        "\n",
        "Furthermore, to find the optimal model, one common way is to employ validation dataset which is a subset of the training data. Different models are trained using a subset of train dataset and evaluated using this validation data. This approach was used in this analysis.\n",
        "\n",
        "The `images` dataset was firstly divided into the train and test data with the help of randomised `indices`. Afterwards, the train dataset was dividied into partial training dataset and validation dataset."
      ]
    },
    {
      "cell_type": "code",
      "execution_count": 14,
      "metadata": {
        "colab": {
          "base_uri": "https://localhost:8080/"
        },
        "id": "0l43iqcTRyFP",
        "outputId": "87d05b11-9d34-4d1f-c1b2-52d594580766"
      },
      "outputs": [
        {
          "data": {
            "text/plain": [
              "((9220, 50, 50, 1), (9220,), (2305, 50, 50, 1), (2305,))"
            ]
          },
          "execution_count": 14,
          "metadata": {},
          "output_type": "execute_result"
        }
      ],
      "source": [
        "# split data into training and testing sets\n",
        "indices = np.arange(len(images))\n",
        "np.random.shuffle(indices)\n",
        "\n",
        "train_test_split = int(0.8 * len(images))\n",
        "\n",
        "img_train = images[indices[:train_test_split]]\n",
        "lbl_train = labels[indices[:train_test_split]]\n",
        "\n",
        "img_test  = images[indices[train_test_split:]]\n",
        "lbl_test  = labels[indices[train_test_split:]]\n",
        "\n",
        "img_train.shape, lbl_train.shape, img_test.shape, lbl_test.shape"
      ]
    },
    {
      "cell_type": "code",
      "execution_count": 15,
      "metadata": {
        "colab": {
          "base_uri": "https://localhost:8080/"
        },
        "id": "MseOmd9_UOyx",
        "outputId": "259f0d53-e85b-4531-dce1-4cdf1bb91fa1"
      },
      "outputs": [
        {
          "data": {
            "text/plain": [
              "((7376, 50, 50, 1), (7376,), (1844, 50, 50, 1), (1844,))"
            ]
          },
          "execution_count": 15,
          "metadata": {},
          "output_type": "execute_result"
        }
      ],
      "source": [
        "# split training data into validation and partial training sets\n",
        "train_val_split  = int(0.8 * len(img_train))\n",
        "\n",
        "partial_img_train = img_train[:train_val_split]\n",
        "partial_lbl_train = lbl_train[:train_val_split]\n",
        "\n",
        "img_val = img_train[train_val_split:]\n",
        "lbl_val = lbl_train[train_val_split:]\n",
        "\n",
        "partial_img_train.shape, partial_lbl_train.shape, img_val.shape, lbl_val.shape"
      ]
    },
    {
      "attachments": {},
      "cell_type": "markdown",
      "metadata": {},
      "source": [
        "### Deleting Unused Variables"
      ]
    },
    {
      "attachments": {},
      "cell_type": "markdown",
      "metadata": {
        "id": "u0WgfiqiU0tF"
      },
      "source": [
        "Some variables were deleted in the environment as these were not used for subsequent processes."
      ]
    },
    {
      "cell_type": "code",
      "execution_count": 16,
      "metadata": {
        "id": "qZK4RimDVWcf"
      },
      "outputs": [],
      "source": [
        "# delete excess data from runtime\n",
        "del indices, images, labels\n",
        "del img_f, img_m"
      ]
    },
    {
      "attachments": {},
      "cell_type": "markdown",
      "metadata": {
        "id": "zkFBogNkY-ey"
      },
      "source": [
        "## 5. Building the Model\n",
        "\n",
        "The finding of the optimal model is done through two steps: (i) building the baseline model which is simple enough but able to beat basic method of prediction (in this case random prediction) and (ii) increasing the complexity of the baseline model while preventing overfitting through regularisation."
      ]
    },
    {
      "attachments": {},
      "cell_type": "markdown",
      "metadata": {
        "id": "Uf0pffMAZJ3o"
      },
      "source": [
        "### Random Prediction\n",
        "\n",
        "The data consists of only two classes. Hence, to be considered as a decent model, any model requires to beat randomised guesses. In this case, the random guesses will have approximately 0.5 prediction accuracy or half data correctly. This was demonstrated using a simulation by randomly generate prediction between the two labels randomly for a hundred times."
      ]
    },
    {
      "cell_type": "code",
      "execution_count": 17,
      "metadata": {
        "colab": {
          "base_uri": "https://localhost:8080/"
        },
        "id": "Mu65Nbv5ZqEA",
        "outputId": "97275528-bb87-4c2d-e2c7-0378f40dc1de"
      },
      "outputs": [
        {
          "data": {
            "text/plain": [
              "0.499892895878525"
            ]
          },
          "execution_count": 17,
          "metadata": {},
          "output_type": "execute_result"
        }
      ],
      "source": [
        "# predict label based on random guesses\n",
        "averages = []\n",
        "\n",
        "for _ in range(100):\n",
        "    pred = np.random.randint(low = 0, high = 2, size = len(partial_lbl_train))\n",
        "    averages.append(np.mean(pred == partial_lbl_train))\n",
        "\n",
        "np.mean(averages)"
      ]
    },
    {
      "attachments": {},
      "cell_type": "markdown",
      "metadata": {
        "id": "G4bfD63uX9ya"
      },
      "source": [
        "### Baseline Model\n",
        "\n",
        "The baseline model would be a simple model capable of giving sufficient performance in predicting the gender of an eye image. This was defined as a neural network model with minimum numbers of layers and units in each layer. The model contains a convolution layer, a max pooling layer, and two dense layers. The last layers has a sigmoid activation function to generate an output of either 0, if the data predicted to be a woman, or 1, if the prediction is a man. Several choices was also made regarding the model: \n",
        "\n",
        "* the model used RMSprop to optimize the weights of network with default parameter settings\n",
        "* losses were calculated using binary crossentropy method\n",
        "* the performance of the model was evaluated using accuracy as its sole metric."
      ]
    },
    {
      "cell_type": "code",
      "execution_count": 18,
      "metadata": {
        "id": "EVBNt_gBVnTi"
      },
      "outputs": [],
      "source": [
        "def get_base_model():\n",
        "    \"\"\"Create baseline model\"\"\"\n",
        "    # define model architecture for the simple model\n",
        "    model = tf.keras.models.Sequential([\n",
        "        tf.keras.layers.Conv2D(8, (3, 3), \n",
        "                               input_shape = (img_size, img_size, 1), \n",
        "                               activation = \"relu\"),\n",
        "        tf.keras.layers.MaxPool2D(2, 2),\n",
        "        tf.keras.layers.Flatten(),\n",
        "        tf.keras.layers.Dense(16, activation = \"relu\"),\n",
        "        tf.keras.layers.Dense(1, activation = \"sigmoid\")\n",
        "    ])\n",
        "\n",
        "    # compile model based on selected optimizer, loss function, and metrics\n",
        "    model.compile(optimizer = \"rmsprop\", \n",
        "                        loss = \"binary_crossentropy\", \n",
        "                        metrics = [\"accuracy\"])\n",
        "\n",
        "    return model"
      ]
    },
    {
      "cell_type": "code",
      "execution_count": 19,
      "metadata": {
        "id": "hTzo022oTzNK"
      },
      "outputs": [],
      "source": [
        "tf.keras.backend.clear_session()\n",
        "model_base = get_base_model()"
      ]
    },
    {
      "attachments": {},
      "cell_type": "markdown",
      "metadata": {
        "id": "2b893VuYqbBz"
      },
      "source": [
        "The baseline model was fitted to the partial training data and evaluated using validation data for 100 iterations of weights update through backpropagation. The model could achieve about 88.7% accuracy. This result was far beyond the random guesses method."
      ]
    },
    {
      "cell_type": "code",
      "execution_count": null,
      "metadata": {
        "colab": {
          "base_uri": "https://localhost:8080/"
        },
        "id": "INAv56A9WrKf",
        "outputId": "37ea6d54-a697-45fb-8db3-246a5273b315"
      },
      "outputs": [],
      "source": [
        "# train the baseline model using partial training data\n",
        "history = model_base.fit(partial_img_train,\n",
        "                         partial_lbl_train,\n",
        "                         validation_data = (img_val, lbl_val),\n",
        "                         epochs = 100,\n",
        "                         verbose = 0)"
      ]
    },
    {
      "cell_type": "code",
      "execution_count": 21,
      "metadata": {
        "colab": {
          "base_uri": "https://localhost:8080/"
        },
        "id": "8Wbh44uIiGAa",
        "outputId": "8af888d8-0d19-49c7-e26e-01f264340499"
      },
      "outputs": [
        {
          "data": {
            "text/plain": [
              "(0.43275418877601624, 0.8877440094947815)"
            ]
          },
          "execution_count": 21,
          "metadata": {},
          "output_type": "execute_result"
        }
      ],
      "source": [
        "# calculate loss and accuracy\n",
        "loss_1, accuracy_1 = model_base.evaluate(img_val, lbl_val, verbose = 0)\n",
        "loss_1, accuracy_1"
      ]
    },
    {
      "attachments": {},
      "cell_type": "markdown",
      "metadata": {
        "id": "mR-xpCTIqUKa"
      },
      "source": [
        "Throughout the training, `TensorFlow` saved the values of the model's accuracy and loss. An important step of defining an optimal model is to check how the performance of the model progress during training. This was assessed using the validation data. \n",
        "\n",
        "As can be examined from the graphs below, the baseline model was too specialised for the data it was trained on. This is shown from both of the loss and accuracy for the training data which was lower than the values for the validation data. There was an overfitting as the model reached a peak of 89 percent of validation accuracy with no improvements after training for about 40 epochs."
      ]
    },
    {
      "cell_type": "code",
      "execution_count": 22,
      "metadata": {
        "colab": {
          "base_uri": "https://localhost:8080/",
          "height": 295
        },
        "id": "dq_RR99Iavk6",
        "outputId": "d43cf565-f40a-4332-f3dc-3f757d80d790"
      },
      "outputs": [
        {
          "data": {
            "image/png": "[encoded data removed]",
            "text/plain": [
              "<Figure size 432x288 with 1 Axes>"
            ]
          },
          "metadata": {
            "needs_background": "light"
          },
          "output_type": "display_data"
        }
      ],
      "source": [
        "plot_history(history, \"accuracy\")"
      ]
    },
    {
      "cell_type": "code",
      "execution_count": 23,
      "metadata": {
        "colab": {
          "base_uri": "https://localhost:8080/",
          "height": 295
        },
        "id": "7VZ2kJLdm9Qz",
        "outputId": "fe38de85-25c4-4b0e-ffbb-e33f0019ac7f"
      },
      "outputs": [
        {
          "data": {
            "image/png": "[encoded data removed]",
            "text/plain": [
              "<Figure size 432x288 with 1 Axes>"
            ]
          },
          "metadata": {
            "needs_background": "light"
          },
          "output_type": "display_data"
        }
      ],
      "source": [
        "plot_history(history, \"loss\")"
      ]
    },
    {
      "attachments": {},
      "cell_type": "markdown",
      "metadata": {
        "id": "M0ZrUEdSYmmo"
      },
      "source": [
        "### Optimisation\n",
        "\n",
        "The baseline model was supposed to be simple and worked as a basis for making additional improvements. The improvements were made by adding complexities through more and bigger layers, leveraging regularisation method,  as well as specifying different optimizer. Specifically, the optimised version of the model had more convolutional layers with more units, more units on the dense layer right before the last layer, and several dropout layer for regularisation. In addition, the Adam optimizer was selected instead of the RMSprop. The selection for the optimal architecture for the neural network was conducted by trial and errors."
      ]
    },
    {
      "cell_type": "code",
      "execution_count": 30,
      "metadata": {
        "id": "xOc7hDdXYpFM"
      },
      "outputs": [],
      "source": [
        "def get_optimized_model():\n",
        "    \"\"\"Create optimised model\"\"\"\n",
        "    # define model architecture for the optimised model\n",
        "    model = tf.keras.models.Sequential([\n",
        "        tf.keras.layers.Conv2D(32, (3, 3), \n",
        "                               input_shape = (img_size, img_size, 1), \n",
        "                               activation = \"relu\"),\n",
        "        tf.keras.layers.MaxPool2D(2, 2),\n",
        "        tf.keras.layers.Dropout(0.5),\n",
        "        tf.keras.layers.Conv2D(32, (3, 3), activation = \"relu\"),\n",
        "        tf.keras.layers.Conv2D(32, (3, 3), activation = \"relu\"),\n",
        "        tf.keras.layers.MaxPool2D(2, 2),\n",
        "        tf.keras.layers.Dropout(0.5),\n",
        "        tf.keras.layers.Conv2D(64, (3, 3), activation = \"relu\"),\n",
        "        tf.keras.layers.Conv2D(64, (3, 3), activation = \"relu\"),\n",
        "        tf.keras.layers.MaxPool2D(2, 2),\n",
        "        tf.keras.layers.Dropout(0.5),\n",
        "        tf.keras.layers.Flatten(),\n",
        "        tf.keras.layers.Dense(256, activation = \"relu\"),\n",
        "        tf.keras.layers.Dropout(0.5),\n",
        "        tf.keras.layers.Dense(1, activation = \"sigmoid\")\n",
        "    ])\n",
        "\n",
        "    # compile the model\n",
        "    model.compile(optimizer = \"adam\",\n",
        "                  loss = \"binary_crossentropy\",\n",
        "                  metrics = [\"accuracy\"])\n",
        "    \n",
        "    return model"
      ]
    },
    {
      "cell_type": "code",
      "execution_count": 31,
      "metadata": {
        "id": "4m_eyhM6TXDr"
      },
      "outputs": [],
      "source": [
        "tf.keras.backend.clear_session()\n",
        "model_optimized = get_optimized_model()"
      ]
    },
    {
      "attachments": {},
      "cell_type": "markdown",
      "metadata": {
        "id": "9OikAsAVzLpj"
      },
      "source": [
        "The procedure for training and evaluation of the model was similar to the previous step. The only difference was that the fitting of the model was done in 300 epochs. The reason was to capture when the model start to overfit and using this as the reference for training the final data. This was a hyperparameter tuning to decide the number of epochs. The optimised model had shown some improvements in the performance as the model could reach 93.6% accuracy, about 4 percent increase compared to the baseline."
      ]
    },
    {
      "cell_type": "code",
      "execution_count": null,
      "metadata": {
        "colab": {
          "base_uri": "https://localhost:8080/"
        },
        "id": "YIdrHau4Y15g",
        "outputId": "b820f439-7678-46a7-a25a-fd5cbd6e9df0"
      },
      "outputs": [],
      "source": [
        "# train the model using partial training data\n",
        "history = model_optimized.fit(partial_img_train,\n",
        "                              partial_lbl_train,\n",
        "                              validation_data = (img_val, lbl_val),\n",
        "                              epochs = 300,\n",
        "                              verbose = 0)"
      ]
    },
    {
      "cell_type": "code",
      "execution_count": 33,
      "metadata": {
        "colab": {
          "base_uri": "https://localhost:8080/"
        },
        "id": "HEqYce7uiAN0",
        "outputId": "2af145b9-9fac-4db9-b6d7-86d905b99ffe"
      },
      "outputs": [
        {
          "data": {
            "text/plain": [
              "(0.18001431226730347, 0.9360086917877197)"
            ]
          },
          "execution_count": 33,
          "metadata": {},
          "output_type": "execute_result"
        }
      ],
      "source": [
        "# calculate loss and accuracy\n",
        "loss_2, accuracy_2 = model_optimized.evaluate(img_val, lbl_val, verbose = 0)\n",
        "loss_2, accuracy_2"
      ]
    },
    {
      "attachments": {},
      "cell_type": "markdown",
      "metadata": {},
      "source": [
        "From the graphs of the model performance's history, the model had achieved 90% accuracy quite fast, or before 50 epochs. For the final model, the number of epochs was decided to be 75 or when the training accuracy started to be above the validation accuracy. Which loss value was bigger was also shifted at about 75 iteration. "
      ]
    },
    {
      "cell_type": "code",
      "execution_count": 34,
      "metadata": {
        "colab": {
          "base_uri": "https://localhost:8080/",
          "height": 295
        },
        "id": "nz-dOANjbkfb",
        "outputId": "f92fb62b-be24-42c6-b604-d9cf56281ce8"
      },
      "outputs": [
        {
          "data": {
            "image/png": "[encoded data removed]",
            "text/plain": [
              "<Figure size 432x288 with 1 Axes>"
            ]
          },
          "metadata": {
            "needs_background": "light"
          },
          "output_type": "display_data"
        }
      ],
      "source": [
        "plot_history(history, \"accuracy\")"
      ]
    },
    {
      "cell_type": "code",
      "execution_count": 35,
      "metadata": {
        "colab": {
          "base_uri": "https://localhost:8080/",
          "height": 295
        },
        "id": "W_Z0kue4blaq",
        "outputId": "cd6aed98-54a1-433a-faa5-68ced07db7e3"
      },
      "outputs": [
        {
          "data": {
            "image/png": "[encoded data removed]",
            "text/plain": [
              "<Figure size 432x288 with 1 Axes>"
            ]
          },
          "metadata": {
            "needs_background": "light"
          },
          "output_type": "display_data"
        }
      ],
      "source": [
        "plot_history(history, \"loss\")"
      ]
    },
    {
      "attachments": {},
      "cell_type": "markdown",
      "metadata": {},
      "source": [
        "## 6. Training the Final Model"
      ]
    },
    {
      "attachments": {},
      "cell_type": "markdown",
      "metadata": {
        "id": "4opqKAUEbU8k"
      },
      "source": [
        "### Using All Training Data\n",
        "\n",
        "The final model used the optimised model. It was trained on all training data for 75 epochs and evaluated to see how it perform on unseen data, which in this case was the test data. The model performed well with 92.1% of accuracy that is not far from the previous evaluation of the optimised model using validation data. "
      ]
    },
    {
      "cell_type": "code",
      "execution_count": 36,
      "metadata": {
        "id": "RgY0p8-WbXd6"
      },
      "outputs": [],
      "source": [
        "tf.keras.backend.clear_session()\n",
        "model = get_optimized_model()"
      ]
    },
    {
      "cell_type": "code",
      "execution_count": null,
      "metadata": {
        "colab": {
          "base_uri": "https://localhost:8080/"
        },
        "id": "3_jFmhDGTgmD",
        "outputId": "422edd76-8c8f-45d1-d201-c609f4e4ea1a"
      },
      "outputs": [],
      "source": [
        "# train the model using all training data\n",
        "history = model.fit(img_train, lbl_train, epochs = 75, verbose = 0)"
      ]
    },
    {
      "cell_type": "code",
      "execution_count": 38,
      "metadata": {
        "colab": {
          "base_uri": "https://localhost:8080/"
        },
        "id": "vDBnGr2QbpvC",
        "outputId": "debf4d20-f63c-4151-cb0d-416b822da8c7"
      },
      "outputs": [
        {
          "data": {
            "text/plain": [
              "(0.1928313821554184, 0.9210411906242371)"
            ]
          },
          "execution_count": 38,
          "metadata": {},
          "output_type": "execute_result"
        }
      ],
      "source": [
        "# calculate loss and accuracy based on testing data\n",
        "loss_3, accuracy_3 = model.evaluate(img_test, lbl_test, verbose = 0)\n",
        "loss_3, accuracy_3"
      ]
    },
    {
      "attachments": {},
      "cell_type": "markdown",
      "metadata": {
        "id": "wr9-58BdTBL3"
      },
      "source": [
        "### Data Augmentation\n",
        "\n",
        "Several data augmentation techniques were used in the `generate_new_data` function as defined in the environment setup. Each image will be augmented with new transformed images. The number of new images for each image is specified between 3 and 7. For each technique, there is 50 percent probability that it will be applied for a given data input. The order of images in the training data was shuffled after data augmentation to reduce the effect on the training.\n",
        "\n",
        "The performance on the training data demonstrated improved results even though it was not significant. There was only 0.5 percent improvement which might be due chance alone."
      ]
    },
    {
      "cell_type": "code",
      "execution_count": 39,
      "metadata": {
        "colab": {
          "base_uri": "https://localhost:8080/"
        },
        "id": "dn-4V0GITDFe",
        "outputId": "995ea175-c108-426c-fab9-105a0b18ad37"
      },
      "outputs": [
        {
          "data": {
            "text/plain": [
              "((50808, 50, 50, 1), (50808,))"
            ]
          },
          "execution_count": 39,
          "metadata": {},
          "output_type": "execute_result"
        }
      ],
      "source": [
        "# set parameters for augmetation\n",
        "min_n = 3\n",
        "max_n = 7\n",
        "prob = 0.5\n",
        "rate = 0.2\n",
        "\n",
        "# generate new data based on all images\n",
        "new_images = []\n",
        "new_labels = []\n",
        "\n",
        "for i, img in enumerate(img_train):\n",
        "    for _ in range(np.random.randint(min_n, max_n)):\n",
        "        new_img = generate_new_data(img,\n",
        "                                    probability = prob,\n",
        "                                    zoom_rate = rate,\n",
        "                                    brightness_rate = rate,\n",
        "                                    shift_rate = rate)\n",
        "        new_images.append(new_img.reshape(img_size, img_size, 1))\n",
        "        new_labels.append(lbl_train[i])\n",
        "\n",
        "# append new data to `images` and `labels`\n",
        "img_train = np.concatenate([img_train, new_images])\n",
        "lbl_train = np.concatenate([lbl_train, new_labels])\n",
        "del new_images, new_labels\n",
        "\n",
        "# randomised the order of train data\n",
        "indices = np.arange(len(img_train))\n",
        "np.random.shuffle(indices)\n",
        "img_train = img_train[indices]\n",
        "lbl_train = lbl_train[indices]\n",
        "\n",
        "img_train.shape, lbl_train.shape"
      ]
    },
    {
      "cell_type": "code",
      "execution_count": 40,
      "metadata": {
        "id": "UEWk0_KLTEL-"
      },
      "outputs": [],
      "source": [
        "tf.keras.backend.clear_session()\n",
        "model = get_optimized_model()"
      ]
    },
    {
      "cell_type": "code",
      "execution_count": null,
      "metadata": {
        "colab": {
          "base_uri": "https://localhost:8080/"
        },
        "id": "d9HROOtoUBt8",
        "outputId": "69fa279b-188e-42a4-c70e-233456f2b922"
      },
      "outputs": [],
      "source": [
        "# train the model using all training data\n",
        "history = model.fit(img_train, lbl_train, epochs = 75, verbose = 1)"
      ]
    },
    {
      "cell_type": "code",
      "execution_count": 42,
      "metadata": {
        "colab": {
          "base_uri": "https://localhost:8080/"
        },
        "id": "mWwvVT6_UDzj",
        "outputId": "ec9b2a7f-1c1f-44f3-d457-e4481e5c39ce"
      },
      "outputs": [
        {
          "data": {
            "text/plain": [
              "(0.1894570291042328, 0.9266811013221741)"
            ]
          },
          "execution_count": 42,
          "metadata": {},
          "output_type": "execute_result"
        }
      ],
      "source": [
        "# calculate loss and accuracy based on testing data\n",
        "loss_4, accuracy_4 = model.evaluate(img_test, lbl_test, verbose = 0)\n",
        "loss_4, accuracy_4"
      ]
    },
    {
      "cell_type": "markdown",
      "metadata": {
        "id": "c5oM72X7rokV"
      },
      "source": [
        "# Summary"
      ]
    },
    {
      "attachments": {},
      "cell_type": "markdown",
      "metadata": {
        "id": "UzF7JMvE2G_C"
      },
      "source": [
        "The results of the analysis has indicated that there is a relationship between genders and human's eye image. With available data, the model can predict the gender of an eye image with more than 92 percent accuracy. In addition, the data augmentation techniques employed in this analysis had provided slight increase in the performance of the model."
      ]
    },
    {
      "attachments": {},
      "cell_type": "markdown",
      "metadata": {
        "id": "cQWUYRla1D6A"
      },
      "source": [
        "The analysis generated four different models that was trained and evaluated on specific datasets. It had been shown that optimisation of the model and augmentation of data could improve the performance according to the selected metric. The final losses and accuracy scores are summarised in the table below."
      ]
    },
    {
      "cell_type": "code",
      "execution_count": 44,
      "metadata": {
        "colab": {
          "base_uri": "https://localhost:8080/",
          "height": 175
        },
        "id": "TFa4J5CVrqRL",
        "outputId": "5471a406-e9a6-4ce3-e86d-b223c497def3"
      },
      "outputs": [
        {
          "data": {
            "text/html": [
              "\n",
              "  <div id=\"df-086897e3-7ef8-4abd-9dd1-65833da5956b\">\n",
              "    <div class=\"colab-df-container\">\n",
              "      <div>\n",
              "<style scoped>\n",
              "    .dataframe tbody tr th:only-of-type {\n",
              "        vertical-align: middle;\n",
              "    }\n",
              "\n",
              "    .dataframe tbody tr th {\n",
              "        vertical-align: top;\n",
              "    }\n",
              "\n",
              "    .dataframe thead th {\n",
              "        text-align: right;\n",
              "    }\n",
              "</style>\n",
              "<table border=\"1\" class=\"dataframe\">\n",
              "  <thead>\n",
              "    <tr style=\"text-align: right;\">\n",
              "      <th></th>\n",
              "      <th>Model</th>\n",
              "      <th>Train Data</th>\n",
              "      <th>Test Data</th>\n",
              "      <th>Loss</th>\n",
              "      <th>Accuracy</th>\n",
              "    </tr>\n",
              "  </thead>\n",
              "  <tbody>\n",
              "    <tr>\n",
              "      <th>0</th>\n",
              "      <td>Baseline</td>\n",
              "      <td>Partial</td>\n",
              "      <td>Validation</td>\n",
              "      <td>0.432754</td>\n",
              "      <td>0.887744</td>\n",
              "    </tr>\n",
              "    <tr>\n",
              "      <th>1</th>\n",
              "      <td>Optimized</td>\n",
              "      <td>Partial</td>\n",
              "      <td>Validation</td>\n",
              "      <td>0.180014</td>\n",
              "      <td>0.936009</td>\n",
              "    </tr>\n",
              "    <tr>\n",
              "      <th>2</th>\n",
              "      <td>Final</td>\n",
              "      <td>Full</td>\n",
              "      <td>Test</td>\n",
              "      <td>0.192831</td>\n",
              "      <td>0.921041</td>\n",
              "    </tr>\n",
              "    <tr>\n",
              "      <th>3</th>\n",
              "      <td>Final Augmented</td>\n",
              "      <td>Augmented</td>\n",
              "      <td>Test</td>\n",
              "      <td>0.189457</td>\n",
              "      <td>0.926681</td>\n",
              "    </tr>\n",
              "  </tbody>\n",
              "</table>\n",
              "</div>\n",
              "      <button class=\"colab-df-convert\" onclick=\"convertToInteractive('df-086897e3-7ef8-4abd-9dd1-65833da5956b')\"\n",
              "              title=\"Convert this dataframe to an interactive table.\"\n",
              "              style=\"display:none;\">\n",
              "        \n",
              "  <svg xmlns=\"http://www.w3.org/2000/svg\" height=\"24px\"viewBox=\"0 0 24 24\"\n",
              "       width=\"24px\">\n",
              "    <path d=\"M0 0h24v24H0V0z\" fill=\"none\"/>\n",
              "    <path d=\"M18.56 5.44l.94 2.06.94-2.06 2.06-.94-2.06-.94-.94-2.06-.94 2.06-2.06.94zm-11 1L8.5 8.5l.94-2.06 2.06-.94-2.06-.94L8.5 2.5l-.94 2.06-2.06.94zm10 10l.94 2.06.94-2.06 2.06-.94-2.06-.94-.94-2.06-.94 2.06-2.06.94z\"/><path d=\"M17.41 7.96l-1.37-1.37c-.4-.4-.92-.59-1.43-.59-.52 0-1.04.2-1.43.59L10.3 9.45l-7.72 7.72c-.78.78-.78 2.05 0 2.83L4 21.41c.39.39.9.59 1.41.59.51 0 1.02-.2 1.41-.59l7.78-7.78 2.81-2.81c.8-.78.8-2.07 0-2.86zM5.41 20L4 18.59l7.72-7.72 1.47 1.35L5.41 20z\"/>\n",
              "  </svg>\n",
              "      </button>\n",
              "      \n",
              "  <style>\n",
              "    .colab-df-container {\n",
              "      display:flex;\n",
              "      flex-wrap:wrap;\n",
              "      gap: 12px;\n",
              "    }\n",
              "\n",
              "    .colab-df-convert {\n",
              "      background-color: #E8F0FE;\n",
              "      border: none;\n",
              "      border-radius: 50%;\n",
              "      cursor: pointer;\n",
              "      display: none;\n",
              "      fill: #1967D2;\n",
              "      height: 32px;\n",
              "      padding: 0 0 0 0;\n",
              "      width: 32px;\n",
              "    }\n",
              "\n",
              "    .colab-df-convert:hover {\n",
              "      background-color: #E2EBFA;\n",
              "      box-shadow: 0px 1px 2px rgba(60, 64, 67, 0.3), 0px 1px 3px 1px rgba(60, 64, 67, 0.15);\n",
              "      fill: #174EA6;\n",
              "    }\n",
              "\n",
              "    [theme=dark] .colab-df-convert {\n",
              "      background-color: #3B4455;\n",
              "      fill: #D2E3FC;\n",
              "    }\n",
              "\n",
              "    [theme=dark] .colab-df-convert:hover {\n",
              "      background-color: #434B5C;\n",
              "      box-shadow: 0px 1px 3px 1px rgba(0, 0, 0, 0.15);\n",
              "      filter: drop-shadow(0px 1px 2px rgba(0, 0, 0, 0.3));\n",
              "      fill: #FFFFFF;\n",
              "    }\n",
              "  </style>\n",
              "\n",
              "      <script>\n",
              "        const buttonEl =\n",
              "          document.querySelector('#df-086897e3-7ef8-4abd-9dd1-65833da5956b button.colab-df-convert');\n",
              "        buttonEl.style.display =\n",
              "          google.colab.kernel.accessAllowed ? 'block' : 'none';\n",
              "\n",
              "        async function convertToInteractive(key) {\n",
              "          const element = document.querySelector('#df-086897e3-7ef8-4abd-9dd1-65833da5956b');\n",
              "          const dataTable =\n",
              "            await google.colab.kernel.invokeFunction('convertToInteractive',\n",
              "                                                     [key], {});\n",
              "          if (!dataTable) return;\n",
              "\n",
              "          const docLinkHtml = 'Like what you see? Visit the ' +\n",
              "            '<a target=\"_blank\" href=https://colab.research.google.com/notebooks/data_table.ipynb>data table notebook</a>'\n",
              "            + ' to learn more about interactive tables.';\n",
              "          element.innerHTML = '';\n",
              "          dataTable['output_type'] = 'display_data';\n",
              "          await google.colab.output.renderOutput(dataTable, element);\n",
              "          const docLink = document.createElement('div');\n",
              "          docLink.innerHTML = docLinkHtml;\n",
              "          element.appendChild(docLink);\n",
              "        }\n",
              "      </script>\n",
              "    </div>\n",
              "  </div>\n",
              "  "
            ],
            "text/plain": [
              "             Model Train Data   Test Data      Loss  Accuracy\n",
              "0         Baseline    Partial  Validation  0.432754  0.887744\n",
              "1        Optimized    Partial  Validation  0.180014  0.936009\n",
              "2            Final       Full        Test  0.192831  0.921041\n",
              "3  Final Augmented  Augmented        Test  0.189457  0.926681"
            ]
          },
          "execution_count": 44,
          "metadata": {},
          "output_type": "execute_result"
        }
      ],
      "source": [
        "# compare losses and accuracies of all models\n",
        "pd.DataFrame({\n",
        "    \"Model\": [\"Baseline\", \"Optimized\", \"Final\", \"Final Augmented\"],\n",
        "    \"Train Data\": [\"Partial\", \"Partial\", \"Full\", \"Augmented\"],\n",
        "    \"Test Data\": [\"Validation\", \"Validation\", \"Test\", \"Test\"],\n",
        "    \"Loss\": [loss_1, loss_2, loss_3, loss_4],\n",
        "    \"Accuracy\": [accuracy_1, accuracy_2, accuracy_3, accuracy_4],\n",
        "})"
      ]
    },
    {
      "cell_type": "markdown",
      "metadata": {
        "id": "kTyjDDa4rLYx"
      },
      "source": [
        "## Bibliography\n",
        "\n",
        "Chollet, F., 2021. Deep learning with Python, Second edition. ed. Manning Publications, Shelter Island.\n",
        "\n",
        "Chollet, F., 2018. Deep learning with Python. Manning Publications, Shelter Island.\n",
        "\n",
        "Pavelbiz, 2021, Female and male eyes. URL: https://www.kaggle.com/datasets/pavelbiz/eyes-rtte (accessed 3.13.23).\n"
      ]
    }
  ],
  "metadata": {
    "accelerator": "GPU",
    "colab": {
      "provenance": []
    },
    "gpuClass": "standard",
    "kernelspec": {
      "display_name": "Python 3",
      "name": "python3"
    },
    "language_info": {
      "codemirror_mode": {
        "name": "ipython",
        "version": 3
      },
      "file_extension": ".py",
      "mimetype": "text/x-python",
      "name": "python",
      "nbconvert_exporter": "python",
      "pygments_lexer": "ipython3",
      "version": "3.9.16"
    }
  },
  "nbformat": 4,
  "nbformat_minor": 0
}
